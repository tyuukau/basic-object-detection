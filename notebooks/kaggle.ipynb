{
  "nbformat": 4,
  "nbformat_minor": 0,
  "metadata": {
    "colab": {
      "provenance": [],
      "gpuType": "T4"
    },
    "kernelspec": {
      "name": "python3",
      "display_name": "Python 3"
    },
    "language_info": {
      "name": "python"
    },
    "accelerator": "GPU"
  },
  "cells": [
    {
      "cell_type": "markdown",
      "source": [
        "# Preparation"
      ],
      "metadata": {
        "id": "F84RXIDyAAGa"
      }
    },
    {
      "cell_type": "markdown",
      "source": [
        "## Clone the Yolo-v10 repo"
      ],
      "metadata": {
        "id": "I1lWLrQC_5ah"
      }
    },
    {
      "cell_type": "code",
      "source": [
        "!git clone https://github.com/THU-MIG/yolov10.git"
      ],
      "metadata": {
        "collapsed": true,
        "id": "uSELTJ4H1Xle"
      },
      "execution_count": null,
      "outputs": []
    },
    {
      "cell_type": "markdown",
      "source": [
        "## Virtual environment"
      ],
      "metadata": {
        "id": "OGhM4yY4ACVa"
      }
    },
    {
      "cell_type": "code",
      "source": [
        "!apt install python3.10-venv"
      ],
      "metadata": {
        "id": "-rhaZsK4K3p_"
      },
      "execution_count": null,
      "outputs": []
    },
    {
      "cell_type": "code",
      "source": [
        "!pip3 install virtualenv\n",
        "!virtualenv env\n",
        "!source /content/env/bin/activate"
      ],
      "metadata": {
        "id": "0PObkEdV_eG1"
      },
      "execution_count": null,
      "outputs": []
    },
    {
      "cell_type": "markdown",
      "source": [
        "## YOLO installation"
      ],
      "metadata": {
        "id": "ugbHwJ91AEpi"
      }
    },
    {
      "cell_type": "code",
      "source": [
        "%cd yolov10\n",
        "!conda create -n yolov10 python=3.9\n",
        "!conda activate yolov10\n",
        "!pip install -r requirements.txt\n",
        "!pip install -e ."
      ],
      "metadata": {
        "id": "xz4qnzf74s99"
      },
      "execution_count": null,
      "outputs": []
    },
    {
      "cell_type": "markdown",
      "source": [
        "## Clone the project"
      ],
      "metadata": {
        "id": "GlXbPWzwAhN3"
      }
    },
    {
      "cell_type": "code",
      "source": [
        "%cd /content"
      ],
      "metadata": {
        "id": "Wih5w6hHAdgc"
      },
      "execution_count": null,
      "outputs": []
    },
    {
      "cell_type": "code",
      "source": [
        "!git clone https://github.com/tyuukau/basic-object-detection.git"
      ],
      "metadata": {
        "id": "qlGniEj6ArbT"
      },
      "execution_count": null,
      "outputs": []
    },
    {
      "cell_type": "markdown",
      "source": [
        "# Run"
      ],
      "metadata": {
        "id": "Q6wybmy1AnCD"
      }
    },
    {
      "cell_type": "code",
      "source": [
        "%cd basic-object-detection"
      ],
      "metadata": {
        "id": "gHR0Zc5sKQfE"
      },
      "execution_count": null,
      "outputs": []
    },
    {
      "cell_type": "code",
      "source": [
        "!python app.py"
      ],
      "metadata": {
        "id": "Q3qe5OTz4aVb"
      },
      "execution_count": null,
      "outputs": []
    }
  ]
}
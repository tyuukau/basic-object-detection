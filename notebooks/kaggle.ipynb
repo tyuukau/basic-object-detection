{
  "cells": [
    {
      "cell_type": "markdown",
      "metadata": {
        "id": "F84RXIDyAAGa"
      },
      "source": [
        "# Preparation"
      ]
    },
    {
      "cell_type": "markdown",
      "metadata": {
        "id": "I1lWLrQC_5ah"
      },
      "source": [
        "## Clone the Yolo-v10 repo"
      ]
    },
    {
      "cell_type": "code",
      "execution_count": null,
      "metadata": {
        "collapsed": true,
        "id": "uSELTJ4H1Xle"
      },
      "outputs": [],
      "source": [
        "!git clone https://github.com/THU-MIG/yolov10.git"
      ]
    },
    {
      "cell_type": "markdown",
      "metadata": {
        "id": "OGhM4yY4ACVa"
      },
      "source": [
        "## Virtual environment"
      ]
    },
    {
      "cell_type": "code",
      "execution_count": null,
      "metadata": {
        "id": "-rhaZsK4K3p_"
      },
      "outputs": [],
      "source": [
        "!apt install python3.10-venv"
      ]
    },
    {
      "cell_type": "code",
      "execution_count": null,
      "metadata": {
        "id": "0PObkEdV_eG1"
      },
      "outputs": [],
      "source": [
        "!pip3 install virtualenv\n",
        "!virtualenv env\n",
        "!source /content/env/bin/activate"
      ]
    },
    {
      "cell_type": "markdown",
      "metadata": {
        "id": "ugbHwJ91AEpi"
      },
      "source": [
        "## YOLO installation"
      ]
    },
    {
      "cell_type": "code",
      "execution_count": null,
      "metadata": {
        "id": "xz4qnzf74s99"
      },
      "outputs": [],
      "source": [
        "%cd yolov10\n",
        "!conda create -n yolov10 python=3.9\n",
        "!conda activate yolov10\n",
        "!pip install -r requirements.txt\n",
        "!pip install -e ."
      ]
    },
    {
      "cell_type": "markdown",
      "metadata": {
        "id": "GlXbPWzwAhN3"
      },
      "source": [
        "## Clone the project"
      ]
    },
    {
      "cell_type": "code",
      "execution_count": null,
      "metadata": {
        "id": "Wih5w6hHAdgc"
      },
      "outputs": [],
      "source": [
        "%cd /content"
      ]
    },
    {
      "cell_type": "code",
      "execution_count": null,
      "metadata": {
        "id": "qlGniEj6ArbT"
      },
      "outputs": [],
      "source": [
        "!git clone https://github.com/tyuukau/basic-object-detection.git"
      ]
    },
    {
      "cell_type": "markdown",
      "metadata": {
        "id": "Q6wybmy1AnCD"
      },
      "source": [
        "# Run"
      ]
    },
    {
      "cell_type": "code",
      "execution_count": null,
      "metadata": {
        "id": "gHR0Zc5sKQfE"
      },
      "outputs": [],
      "source": [
        "%cd basic-object-detection"
      ]
    },
    {
      "cell_type": "code",
      "execution_count": null,
      "metadata": {},
      "outputs": [],
      "source": [
        "!pip install -r requirements.txt"
      ]
    },
    {
      "cell_type": "code",
      "execution_count": null,
      "metadata": {
        "id": "Q3qe5OTz4aVb"
      },
      "outputs": [],
      "source": [
        "!python app.py"
      ]
    }
  ],
  "metadata": {
    "accelerator": "GPU",
    "colab": {
      "gpuType": "T4",
      "provenance": []
    },
    "kernelspec": {
      "display_name": "Python 3",
      "name": "python3"
    },
    "language_info": {
      "name": "python"
    }
  },
  "nbformat": 4,
  "nbformat_minor": 0
}
